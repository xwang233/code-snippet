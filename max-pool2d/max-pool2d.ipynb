{
 "cells": [
  {
   "cell_type": "code",
   "execution_count": 1,
   "metadata": {},
   "outputs": [],
   "source": [
    "# GPU: RTX 2070 Super\n",
    "\n",
    "error = 10 ** -5 \n",
    "\n",
    "def main(device):\n",
    "    import torch \n",
    "    print(torch.__version__)\n",
    "    print()\n",
    "    \n",
    "    dtype = torch.float16\n",
    "\n",
    "    for N in [20]:\n",
    "        for C in [16, 64, 256]:\n",
    "            for H, W in [(28, 28), (64, 64)]:\n",
    "                for ks in [2, 4]:\n",
    "                    torch.cuda.empty_cache() # this solves the problem where pytorch GPU tensor is not freed in Jupyter\n",
    "\n",
    "                    print(f\"(N,C,H,W,ks)=({N},{C},{H},{W},{ks})\")\n",
    "\n",
    "                    x0 = torch.randn(N, C, H, W, device=device, dtype=dtype).contiguous(memory_format=torch.channels_last)\n",
    "                    x1 = x0.clone() \n",
    "\n",
    "                    x0.requires_grad_() \n",
    "                    x1.requires_grad_()\n",
    "\n",
    "                    y0 = torch.nn.MaxPool2d(ks, ks, 0, 1)(x0)\n",
    "                    z0 = y0.sum() \n",
    "                    z0.backward(retain_graph=True) \n",
    "\n",
    "                    if H % ks == 0 and W % ks == 0:\n",
    "                        y1 = torch.nn.AdaptiveMaxPool2d((H//ks, W//ks))(x1)\n",
    "                        assert((y0-y1).abs().max().item() < error)\n",
    "\n",
    "                        z1 = y1.sum() \n",
    "                        z1.backward() \n",
    "                        assert((x0.grad.data-x1.grad.data).abs().max().item() < error)\n",
    "\n",
    "                    def forward():\n",
    "                        torch.cuda.synchronize()\n",
    "                        torch.nn.MaxPool2d(2, 2, 0, 1)(x0)\n",
    "                        torch.cuda.synchronize()\n",
    "\n",
    "                    print(\"forward: \")\n",
    "                    %timeit forward()\n",
    "\n",
    "                    def backward(): \n",
    "                        torch.cuda.synchronize() \n",
    "                        z0.backward(retain_graph=True)\n",
    "                        torch.cuda.synchronize()\n",
    "\n",
    "                    print(\"backward: \")\n",
    "                    %timeit backward()\n",
    "\n",
    "                    print()"
   ]
  },
  {
   "cell_type": "markdown",
   "metadata": {},
   "source": [
    "## Before"
   ]
  },
  {
   "cell_type": "code",
   "execution_count": 2,
   "metadata": {
    "scrolled": false
   },
   "outputs": [
    {
     "name": "stdout",
     "output_type": "stream",
     "text": [
      "1.5.0a0+7e55494\n",
      "\n",
      "(N,C,H,W,ks)=(20,16,28,28,2)\n",
      "forward: \n",
      "81.9 µs ± 1.51 µs per loop (mean ± std. dev. of 7 runs, 10000 loops each)\n",
      "backward: \n",
      "401 µs ± 67.2 µs per loop (mean ± std. dev. of 7 runs, 1000 loops each)\n",
      "\n",
      "(N,C,H,W,ks)=(20,16,28,28,4)\n",
      "forward: \n",
      "82 µs ± 947 ns per loop (mean ± std. dev. of 7 runs, 10000 loops each)\n",
      "backward: \n",
      "364 µs ± 56.3 µs per loop (mean ± std. dev. of 7 runs, 1000 loops each)\n",
      "\n",
      "(N,C,H,W,ks)=(20,16,64,64,2)\n",
      "forward: \n",
      "89 µs ± 848 ns per loop (mean ± std. dev. of 7 runs, 10000 loops each)\n",
      "backward: \n",
      "462 µs ± 17.8 µs per loop (mean ± std. dev. of 7 runs, 1000 loops each)\n",
      "\n",
      "(N,C,H,W,ks)=(20,16,64,64,4)\n",
      "forward: \n",
      "88 µs ± 283 ns per loop (mean ± std. dev. of 7 runs, 10000 loops each)\n",
      "backward: \n",
      "465 µs ± 20.8 µs per loop (mean ± std. dev. of 7 runs, 1000 loops each)\n",
      "\n",
      "(N,C,H,W,ks)=(20,64,28,28,2)\n",
      "forward: \n",
      "85.9 µs ± 170 ns per loop (mean ± std. dev. of 7 runs, 10000 loops each)\n",
      "backward: \n",
      "460 µs ± 30.3 µs per loop (mean ± std. dev. of 7 runs, 1000 loops each)\n",
      "\n",
      "(N,C,H,W,ks)=(20,64,28,28,4)\n",
      "forward: \n",
      "85.2 µs ± 254 ns per loop (mean ± std. dev. of 7 runs, 10000 loops each)\n",
      "backward: \n",
      "449 µs ± 37.3 µs per loop (mean ± std. dev. of 7 runs, 1000 loops each)\n",
      "\n",
      "(N,C,H,W,ks)=(20,64,64,64,2)\n",
      "forward: \n",
      "148 µs ± 192 ns per loop (mean ± std. dev. of 7 runs, 10000 loops each)\n",
      "backward: \n",
      "741 µs ± 2.7 µs per loop (mean ± std. dev. of 7 runs, 1000 loops each)\n",
      "\n",
      "(N,C,H,W,ks)=(20,64,64,64,4)\n",
      "forward: \n",
      "151 µs ± 294 ns per loop (mean ± std. dev. of 7 runs, 10000 loops each)\n",
      "backward: \n",
      "709 µs ± 654 ns per loop (mean ± std. dev. of 7 runs, 1000 loops each)\n",
      "\n",
      "(N,C,H,W,ks)=(20,256,28,28,2)\n",
      "forward: \n",
      "177 µs ± 174 ns per loop (mean ± std. dev. of 7 runs, 10000 loops each)\n",
      "backward: \n",
      "673 µs ± 1.23 µs per loop (mean ± std. dev. of 7 runs, 1000 loops each)\n",
      "\n",
      "(N,C,H,W,ks)=(20,256,28,28,4)\n",
      "forward: \n",
      "190 µs ± 8.91 µs per loop (mean ± std. dev. of 7 runs, 1000 loops each)\n",
      "backward: \n",
      "603 µs ± 3.81 µs per loop (mean ± std. dev. of 7 runs, 1000 loops each)\n",
      "\n",
      "(N,C,H,W,ks)=(20,256,64,64,2)\n",
      "forward: \n",
      "441 µs ± 4.28 µs per loop (mean ± std. dev. of 7 runs, 1000 loops each)\n",
      "backward: \n",
      "1.82 ms ± 2.96 µs per loop (mean ± std. dev. of 7 runs, 1000 loops each)\n",
      "\n",
      "(N,C,H,W,ks)=(20,256,64,64,4)\n",
      "forward: \n",
      "441 µs ± 1.17 µs per loop (mean ± std. dev. of 7 runs, 1000 loops each)\n",
      "backward: \n",
      "1.5 ms ± 1.37 µs per loop (mean ± std. dev. of 7 runs, 1000 loops each)\n",
      "\n"
     ]
    }
   ],
   "source": [
    "main(\"cuda:0\")"
   ]
  },
  {
   "cell_type": "markdown",
   "metadata": {},
   "source": [
    "## After"
   ]
  },
  {
   "cell_type": "code",
   "execution_count": 2,
   "metadata": {
    "scrolled": false
   },
   "outputs": [
    {
     "name": "stdout",
     "output_type": "stream",
     "text": [
      "1.5.0a0+54c74e1\n",
      "\n",
      "(N,C,H,W,ks)=(20,16,28,28,2)\n",
      "forward: \n",
      "84.6 µs ± 227 ns per loop (mean ± std. dev. of 7 runs, 10000 loops each)\n",
      "backward: \n",
      "398 µs ± 80.7 µs per loop (mean ± std. dev. of 7 runs, 1000 loops each)\n",
      "\n",
      "(N,C,H,W,ks)=(20,16,28,28,4)\n",
      "forward: \n",
      "84.2 µs ± 380 ns per loop (mean ± std. dev. of 7 runs, 10000 loops each)\n",
      "backward: \n",
      "428 µs ± 42.3 µs per loop (mean ± std. dev. of 7 runs, 1000 loops each)\n",
      "\n",
      "(N,C,H,W,ks)=(20,16,64,64,2)\n",
      "forward: \n",
      "90.3 µs ± 220 ns per loop (mean ± std. dev. of 7 runs, 10000 loops each)\n",
      "backward: \n",
      "469 µs ± 11.2 µs per loop (mean ± std. dev. of 7 runs, 1000 loops each)\n",
      "\n",
      "(N,C,H,W,ks)=(20,16,64,64,4)\n",
      "forward: \n",
      "89.2 µs ± 406 ns per loop (mean ± std. dev. of 7 runs, 10000 loops each)\n",
      "backward: \n",
      "460 µs ± 17.3 µs per loop (mean ± std. dev. of 7 runs, 1000 loops each)\n",
      "\n",
      "(N,C,H,W,ks)=(20,64,28,28,2)\n",
      "forward: \n",
      "84.9 µs ± 178 ns per loop (mean ± std. dev. of 7 runs, 10000 loops each)\n",
      "backward: \n",
      "461 µs ± 6.99 µs per loop (mean ± std. dev. of 7 runs, 1000 loops each)\n",
      "\n",
      "(N,C,H,W,ks)=(20,64,28,28,4)\n",
      "forward: \n",
      "84 µs ± 90.9 ns per loop (mean ± std. dev. of 7 runs, 10000 loops each)\n",
      "backward: \n",
      "443 µs ± 55 µs per loop (mean ± std. dev. of 7 runs, 1000 loops each)\n",
      "\n",
      "(N,C,H,W,ks)=(20,64,64,64,2)\n",
      "forward: \n",
      "152 µs ± 167 ns per loop (mean ± std. dev. of 7 runs, 10000 loops each)\n",
      "backward: \n",
      "736 µs ± 4.56 µs per loop (mean ± std. dev. of 7 runs, 1000 loops each)\n",
      "\n",
      "(N,C,H,W,ks)=(20,64,64,64,4)\n",
      "forward: \n",
      "153 µs ± 284 ns per loop (mean ± std. dev. of 7 runs, 10000 loops each)\n",
      "backward: \n",
      "678 µs ± 14.7 µs per loop (mean ± std. dev. of 7 runs, 1000 loops each)\n",
      "\n",
      "(N,C,H,W,ks)=(20,256,28,28,2)\n",
      "forward: \n",
      "160 µs ± 361 ns per loop (mean ± std. dev. of 7 runs, 10000 loops each)\n",
      "backward: \n",
      "678 µs ± 1.26 µs per loop (mean ± std. dev. of 7 runs, 1000 loops each)\n",
      "\n",
      "(N,C,H,W,ks)=(20,256,28,28,4)\n",
      "forward: \n",
      "163 µs ± 363 ns per loop (mean ± std. dev. of 7 runs, 10000 loops each)\n",
      "backward: \n",
      "612 µs ± 638 ns per loop (mean ± std. dev. of 7 runs, 1000 loops each)\n",
      "\n",
      "(N,C,H,W,ks)=(20,256,64,64,2)\n",
      "forward: \n",
      "419 µs ± 4.82 µs per loop (mean ± std. dev. of 7 runs, 1000 loops each)\n",
      "backward: \n",
      "1.7 ms ± 1.88 µs per loop (mean ± std. dev. of 7 runs, 1000 loops each)\n",
      "\n",
      "(N,C,H,W,ks)=(20,256,64,64,4)\n",
      "forward: \n",
      "420 µs ± 287 ns per loop (mean ± std. dev. of 7 runs, 1000 loops each)\n",
      "backward: \n",
      "1.51 ms ± 1.13 µs per loop (mean ± std. dev. of 7 runs, 1000 loops each)\n",
      "\n"
     ]
    }
   ],
   "source": [
    "main(\"cuda:0\")"
   ]
  },
  {
   "cell_type": "markdown",
   "metadata": {},
   "source": [
    "## Compare"
   ]
  },
  {
   "cell_type": "code",
   "execution_count": 3,
   "metadata": {},
   "outputs": [],
   "source": [
    "# After manually copying the outputs to before.txt and after.txt \n",
    "\n",
    "import numpy as np \n",
    "import seaborn as sns\n",
    "import matplotlib.pyplot as plt \n",
    "\n",
    "with open('before.txt', 'r') as f: \n",
    "    before = f.readlines() \n",
    "with open('after.txt', 'r') as f: \n",
    "    after = f.readlines() \n",
    "\n",
    "def parse(lines):\n",
    "    d_fwd_time = {}\n",
    "    d_back_time = {}\n",
    "    \n",
    "    for i in range(0, len(lines), 6): \n",
    "        line = lines[i] \n",
    "        \n",
    "        tensor_size = line[line.index('=')+1:].rstrip()\n",
    "        \n",
    "        key = tensor_size\n",
    "        \n",
    "        def parse_time(linex):\n",
    "            space = linex.index(' ')\n",
    "            t = float(linex[: space])\n",
    "            if linex[space + 1] == u'n': \n",
    "                t /= 1000 \n",
    "            elif linex[space + 1] == u'µ':\n",
    "                pass\n",
    "            elif linex[space + 1] == u'm': \n",
    "                t *= 1000\n",
    "            \n",
    "            return t\n",
    "            \n",
    "        fwd_time = parse_time(lines[i+2])\n",
    "        back_time = parse_time(lines[i+4])\n",
    "    \n",
    "        d_fwd_time[key] = fwd_time \n",
    "        d_back_time[key] = back_time\n",
    "        \n",
    "    return (d_fwd_time, d_back_time)   \n",
    "\n",
    "d_fwd_before, d_back_before = parse(before)\n",
    "d_fwd_after, d_back_after = parse(after)\n",
    "\n",
    "def compare(d_before, d_after, s): \n",
    "    print('compare for', s)\n",
    "    print()\n",
    "    print('tensor size\\tbefore\\tafter\\tregression')\n",
    "    \n",
    "    diffs = []\n",
    "    for key in d_before: \n",
    "        t_before = d_before[key] \n",
    "        t_after = d_after[key] \n",
    "        \n",
    "        diffs.append((t_after - t_before)/t_before * 100)\n",
    "        \n",
    "        if (t_after - t_before) / t_before > 0.05: \n",
    "            print(f\"{key}\", t_before, t_after, \n",
    "                  f\"{(t_after - t_before) / t_before * 100.0 : .1f}%\", sep='\\t')\n",
    "    \n",
    "    print()\n",
    "    print('(t_after - t_before) / t_before:')\n",
    "    print('mean =', np.mean(diffs), '%')\n",
    "    print('median =', np.median(diffs), '%')\n",
    "    print('max =', np.max(diffs), '%')\n",
    "    print('min =', np.min(diffs), '%')\n",
    "    \n",
    "    ax = sns.distplot(diffs)\n",
    "    ax.set(xlabel='percentage regression', ylabel='PDF')\n",
    "    plt.show()"
   ]
  },
  {
   "cell_type": "code",
   "execution_count": 4,
   "metadata": {},
   "outputs": [
    {
     "name": "stdout",
     "output_type": "stream",
     "text": [
      "compare for forward\n",
      "\n",
      "tensor size\tbefore\tafter\tregression\n",
      "\n",
      "(t_after - t_before) / t_before:\n",
      "mean = -1.9422551150398129 %\n",
      "median = 0.08017947867919739 %\n",
      "max = 3.2967032967032828 %\n",
      "min = -14.210526315789473 %\n"
     ]
    },
    {
     "data": {
      "image/png": "[encoded data removed]",
      "text/plain": [
       "<Figure size 432x288 with 1 Axes>"
      ]
     },
     "metadata": {
      "needs_background": "light"
     },
     "output_type": "display_data"
    }
   ],
   "source": [
    "compare(d_fwd_before, d_fwd_after, 'forward')"
   ]
  },
  {
   "cell_type": "code",
   "execution_count": 5,
   "metadata": {},
   "outputs": [
    {
     "name": "stdout",
     "output_type": "stream",
     "text": [
      "compare for backward\n",
      "\n",
      "tensor size\tbefore\tafter\tregression\n",
      "(20,16,28,28,4)\t364.0\t428.0\t 17.6%\n",
      "\n",
      "(t_after - t_before) / t_before:\n",
      "mean = 0.6180732656625209 %\n",
      "median = -0.22868626415537174 %\n",
      "max = 17.582417582417584 %\n",
      "min = -6.593406593406594 %\n"
     ]
    },
    {
     "data": {
      "image/png": "[encoded data removed]",
      "text/plain": [
       "<Figure size 432x288 with 1 Axes>"
      ]
     },
     "metadata": {
      "needs_background": "light"
     },
     "output_type": "display_data"
    }
   ],
   "source": [
    "compare(d_back_before, d_back_after, 'backward')"
   ]
  },
  {
   "cell_type": "code",
   "execution_count": null,
   "metadata": {},
   "outputs": [],
   "source": []
  }
 ],
 "metadata": {
  "kernelspec": {
   "display_name": "Python 3.7.6 64-bit",
   "language": "python",
   "name": "python37664bit62e2c5dfec67494b84f17a8512e88172"
  },
  "language_info": {
   "codemirror_mode": {
    "name": "ipython",
    "version": 3
   },
   "file_extension": ".py",
   "mimetype": "text/x-python",
   "name": "python",
   "nbconvert_exporter": "python",
   "pygments_lexer": "ipython3",
   "version": "3.7.6"
  }
 },
 "nbformat": 4,
 "nbformat_minor": 4
}
