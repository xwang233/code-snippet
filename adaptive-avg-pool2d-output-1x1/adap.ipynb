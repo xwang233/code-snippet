{
 "cells": [
  {
   "cell_type": "code",
   "execution_count": 1,
   "metadata": {},
   "outputs": [
    {
     "name": "stdout",
     "output_type": "stream",
     "text": [
      "GPU 0: GeForce RTX 2070 SUPER \r\n"
     ]
    }
   ],
   "source": [
    "! nvidia-smi -L | cut -d '(' -f 1"
   ]
  },
  {
   "cell_type": "code",
   "execution_count": 2,
   "metadata": {},
   "outputs": [],
   "source": [
    "import torch\n",
    "import time\n",
    "import timeit\n",
    "import itertools\n",
    "\n",
    "nb = 500\n",
    "\n",
    "def main(s: str):\n",
    "    def prof(file, size, mf, device):\n",
    "        x = torch.randint(1, 10, size, dtype=torch.float, device=device)\n",
    "        if mf == 'non_contiguous':\n",
    "            x = x[::2, ::2, ::2, ::2]\n",
    "        else:\n",
    "            x = x.to(memory_format=mf)\n",
    "        \n",
    "        net = torch.nn.AdaptiveAvgPool2d((1, 1))\n",
    "        out = net(x)\n",
    "        ref_out = x.mean((-1, -2)).view((x.size(0), x.size(1), 1, 1))\n",
    "        assert torch.allclose(out, ref_out)\n",
    "        \n",
    "        # warmup\n",
    "        timeit.timeit(lambda: net(x), number=nb)\n",
    "        torch.cuda.synchronize()\n",
    "        \n",
    "        start = time.time()\n",
    "        for _ in range(nb):\n",
    "            out = net(x)\n",
    "        torch.cuda.synchronize()\n",
    "        end = time.time()\n",
    "        tc = (end - start) / nb\n",
    "        \n",
    "        print(f'{size}, {mf}, {device}'.ljust(50), f'{tc : .3e}')\n",
    "        file.write(f'{size}, {mf}, {device} $ {tc}\\n')\n",
    "\n",
    "\n",
    "    print(torch.__version__)\n",
    "    with open(s + '.txt', 'w') as file:\n",
    "        for size, mf, device in itertools.product(\n",
    "            [(2, 3, 4, 4), (4, 16, 32, 32), (8, 128, 64, 64), (16, 256, 224, 224)],\n",
    "            [torch.contiguous_format, torch.channels_last, 'non_contiguous'],\n",
    "            ['cpu', 'cuda']\n",
    "        ):\n",
    "            prof(file, size, mf, device)"
   ]
  },
  {
   "cell_type": "code",
   "execution_count": 2,
   "metadata": {},
   "outputs": [
    {
     "name": "stdout",
     "output_type": "stream",
     "text": [
      "1.7.0a0+06c277f\n",
      "(2, 3, 4, 4), torch.contiguous_format, cpu          3.459e-05\n",
      "(2, 3, 4, 4), torch.contiguous_format, cuda         4.128e-05\n",
      "(2, 3, 4, 4), torch.channels_last, cpu              2.748e-05\n",
      "(2, 3, 4, 4), torch.channels_last, cuda             3.107e-05\n",
      "(2, 3, 4, 4), non_contiguous, cpu                   3.695e-05\n",
      "(2, 3, 4, 4), non_contiguous, cuda                  6.232e-05\n",
      "(4, 16, 32, 32), torch.contiguous_format, cpu       6.258e-05\n",
      "(4, 16, 32, 32), torch.contiguous_format, cuda      4.264e-05\n",
      "(4, 16, 32, 32), torch.channels_last, cpu           5.217e-05\n",
      "(4, 16, 32, 32), torch.channels_last, cuda          1.895e-04\n",
      "(4, 16, 32, 32), non_contiguous, cpu                4.813e-05\n",
      "(4, 16, 32, 32), non_contiguous, cuda               6.162e-05\n",
      "(8, 128, 64, 64), torch.contiguous_format, cpu      1.201e-04\n",
      "(8, 128, 64, 64), torch.contiguous_format, cuda     4.271e-05\n",
      "(8, 128, 64, 64), torch.channels_last, cpu          1.303e-03\n",
      "(8, 128, 64, 64), torch.channels_last, cuda         1.237e-03\n",
      "(8, 128, 64, 64), non_contiguous, cpu               1.319e-04\n",
      "(8, 128, 64, 64), non_contiguous, cuda              6.181e-05\n",
      "(16, 256, 224, 224), torch.contiguous_format, cpu   1.723e-02\n",
      "(16, 256, 224, 224), torch.contiguous_format, cuda  1.930e-03\n",
      "(16, 256, 224, 224), torch.channels_last, cpu       2.450e-01\n",
      "(16, 256, 224, 224), torch.channels_last, cuda      1.559e-02\n",
      "(16, 256, 224, 224), non_contiguous, cpu            1.174e-02\n",
      "(16, 256, 224, 224), non_contiguous, cuda           5.240e-04\n"
     ]
    }
   ],
   "source": [
    "main('before')"
   ]
  },
  {
   "cell_type": "code",
   "execution_count": 3,
   "metadata": {},
   "outputs": [
    {
     "name": "stdout",
     "output_type": "stream",
     "text": [
      "1.7.0a0+c0db493\n",
      "(2, 3, 4, 4), torch.contiguous_format, cpu          3.938e-05\n",
      "(2, 3, 4, 4), torch.contiguous_format, cuda         3.671e-05\n",
      "(2, 3, 4, 4), torch.channels_last, cpu              3.101e-05\n",
      "(2, 3, 4, 4), torch.channels_last, cuda             3.648e-05\n",
      "(2, 3, 4, 4), non_contiguous, cpu                   3.120e-05\n",
      "(2, 3, 4, 4), non_contiguous, cuda                  3.655e-05\n",
      "(4, 16, 32, 32), torch.contiguous_format, cpu       6.007e-05\n",
      "(4, 16, 32, 32), torch.contiguous_format, cuda      3.723e-05\n",
      "(4, 16, 32, 32), torch.channels_last, cpu           6.891e-05\n",
      "(4, 16, 32, 32), torch.channels_last, cuda          3.717e-05\n",
      "(4, 16, 32, 32), non_contiguous, cpu                4.058e-05\n",
      "(4, 16, 32, 32), non_contiguous, cuda               3.684e-05\n",
      "(8, 128, 64, 64), torch.contiguous_format, cpu      1.016e-04\n",
      "(8, 128, 64, 64), torch.contiguous_format, cuda     4.841e-05\n",
      "(8, 128, 64, 64), torch.channels_last, cpu          2.581e-04\n",
      "(8, 128, 64, 64), torch.channels_last, cuda         4.951e-05\n",
      "(8, 128, 64, 64), non_contiguous, cpu               1.360e-04\n",
      "(8, 128, 64, 64), non_contiguous, cuda              3.842e-05\n",
      "(16, 256, 224, 224), torch.contiguous_format, cpu   1.565e-02\n",
      "(16, 256, 224, 224), torch.contiguous_format, cuda  1.931e-03\n",
      "(16, 256, 224, 224), torch.channels_last, cpu       2.695e-02\n",
      "(16, 256, 224, 224), torch.channels_last, cuda      1.943e-03\n",
      "(16, 256, 224, 224), non_contiguous, cpu            6.370e-03\n",
      "(16, 256, 224, 224), non_contiguous, cuda           2.519e-04\n"
     ]
    }
   ],
   "source": [
    "main('after')"
   ]
  },
  {
   "cell_type": "code",
   "execution_count": 1,
   "metadata": {},
   "outputs": [
    {
     "name": "stdout",
     "output_type": "stream",
     "text": [
      "shape                                                   time_before (ms), time_after (ms)\n",
      "(2, 3, 4, 4), torch.contiguous_format, cpu               0.035,  0.039,      \n",
      "(2, 3, 4, 4), torch.contiguous_format, cuda              0.041,  0.037,      \n",
      "(2, 3, 4, 4), torch.channels_last, cpu                   0.027,  0.031,      \n",
      "(2, 3, 4, 4), torch.channels_last, cuda                  0.031,  0.036,      \n",
      "(2, 3, 4, 4), non_contiguous, cpu                        0.037,  0.031,      \n",
      "(2, 3, 4, 4), non_contiguous, cuda                       0.062,  0.037,      \n",
      "(4, 16, 32, 32), torch.contiguous_format, cpu            0.063,  0.060,      \n",
      "(4, 16, 32, 32), torch.contiguous_format, cuda           0.043,  0.037,      \n",
      "(4, 16, 32, 32), torch.channels_last, cpu                0.052,  0.069,      \n",
      "(4, 16, 32, 32), torch.channels_last, cuda               0.190,  0.037,      \n",
      "(4, 16, 32, 32), non_contiguous, cpu                     0.048,  0.041,      \n",
      "(4, 16, 32, 32), non_contiguous, cuda                    0.062,  0.037,      \n",
      "(8, 128, 64, 64), torch.contiguous_format, cpu           0.120,  0.102,      \n",
      "(8, 128, 64, 64), torch.contiguous_format, cuda          0.043,  0.048,      \n",
      "(8, 128, 64, 64), torch.channels_last, cpu               1.303,  0.258,      \n",
      "(8, 128, 64, 64), torch.channels_last, cuda              1.237,  0.050,      \n",
      "(8, 128, 64, 64), non_contiguous, cpu                    0.132,  0.136,      \n",
      "(8, 128, 64, 64), non_contiguous, cuda                   0.062,  0.038,      \n",
      "(16, 256, 224, 224), torch.contiguous_format, cpu        17.232,  15.652,      \n",
      "(16, 256, 224, 224), torch.contiguous_format, cuda       1.930,  1.931,      \n",
      "(16, 256, 224, 224), torch.channels_last, cpu            245.025,  26.951,      \n",
      "(16, 256, 224, 224), torch.channels_last, cuda           15.593,  1.943,      \n",
      "(16, 256, 224, 224), non_contiguous, cpu                 11.738,  6.370,      \n",
      "(16, 256, 224, 224), non_contiguous, cuda                0.524,  0.252,      \n"
     ]
    }
   ],
   "source": [
    "import re\n",
    "\n",
    "def readfile(fn):\n",
    "    with open(fn, 'r') as f:\n",
    "        fl = f.readlines()\n",
    "        \n",
    "    d = {}\n",
    "    for _line in fl:\n",
    "        key, t = re.split('\\$', _line.rstrip())\n",
    "        d[key] = float(t) * 1000\n",
    "    \n",
    "    return d\n",
    "\n",
    "def compare(f, before: str, *afters):\n",
    "    assert len(afters) >= 1, 'provide at least one after data'\n",
    "\n",
    "    print('shape'.ljust(55), 'time_before (ms), time_after (ms)', end='')\n",
    "    f.write('| shape | time_before (ms) | time_after (ms) |')\n",
    "    for after in afters[1:]:\n",
    "        print(', gpu_time_' + after.rstrip('.txt'), end='')\n",
    "        f.write(' gpu_time_' + after.rstrip('.txt') + ' (ms) |')\n",
    "    print()\n",
    "    f.write('\\n')\n",
    "    f.write('| --- ' * (len(afters) + 2) + '| \\n')\n",
    "\n",
    "    d_b = readfile(before)\n",
    "    d_as = []\n",
    "    for after in afters:\n",
    "        d_a = readfile(after)\n",
    "        d_as.append(d_a)\n",
    "    \n",
    "    for key in d_b:\n",
    "        time_before = d_b[key]\n",
    "        time_after = d_as[0][key]\n",
    "\n",
    "        print(f'{key: <55} {time_before: .3f}, {time_after: .3f}, ' + ' '*5, end='')\n",
    "        f.write(f'| {key} | {time_before: .3f} | {time_after: .3f} | ')\n",
    "        for d_a in d_as[1:]:\n",
    "            time_after = d_a[key]\n",
    "            print(f'{time_after: .3f}, ', end='')\n",
    "            f.write(f'{time_after: .3f} |')\n",
    "        print()\n",
    "        f.write('\\n')\n",
    "\n",
    "with open('table.md', 'w') as f:\n",
    "    compare(f, 'before.txt', 'after.txt')"
   ]
  },
  {
   "cell_type": "code",
   "execution_count": null,
   "metadata": {},
   "outputs": [],
   "source": []
  }
 ],
 "metadata": {
  "kernelspec": {
   "display_name": "Python 3.7.6 64-bit",
   "language": "python",
   "name": "python37664bitfce950e88ea94256bae6c6f663f53e68"
  },
  "language_info": {
   "codemirror_mode": {
    "name": "ipython",
    "version": 3
   },
   "file_extension": ".py",
   "mimetype": "text/x-python",
   "name": "python",
   "nbconvert_exporter": "python",
   "pygments_lexer": "ipython3",
   "version": "3.7.8"
  }
 },
 "nbformat": 4,
 "nbformat_minor": 2
}
