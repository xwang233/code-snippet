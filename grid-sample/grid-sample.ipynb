{
 "cells": [
  {
   "cell_type": "code",
   "execution_count": 1,
   "metadata": {},
   "outputs": [],
   "source": [
    "# GPU: RTX 2070 Super\n",
    "\n",
    "def main(device):\n",
    "    import torch \n",
    "    print(torch.__version__)\n",
    "    print()\n",
    "    \n",
    "    inp = torch.randn(1, 1, 1024, 1024, dtype=torch.float, device=device)\n",
    "    grid = torch.randn(1, 1024, 1024, 2, dtype=torch.float, device=device)\n",
    "    \n",
    "    grid.requires_grad_()\n",
    "    \n",
    "    torch.cuda.synchronize()\n",
    "    def forward():\n",
    "        torch.nn.functional.grid_sample(inp, grid, align_corners=True)\n",
    "        torch.cuda.synchronize()\n",
    "    \n",
    "    print('forward: ')\n",
    "    %timeit forward()\n",
    "    \n",
    "    r = torch.nn.functional.grid_sample(inp, grid, align_corners=True).sum() \n",
    "    \n",
    "    torch.cuda.synchronize()\n",
    "    def backward(): \n",
    "        r.backward(retain_graph=True)\n",
    "        torch.cuda.synchronize()\n",
    "    \n",
    "    print('backward: ')\n",
    "    %timeit backward()\n",
    "    "
   ]
  },
  {
   "cell_type": "markdown",
   "metadata": {},
   "source": [
    "## Before"
   ]
  },
  {
   "cell_type": "code",
   "execution_count": 3,
   "metadata": {
    "scrolled": false
   },
   "outputs": [
    {
     "name": "stdout",
     "output_type": "stream",
     "text": [
      "1.5.0a0+4d39aee\n",
      "\n",
      "forward: \n",
      "126 µs ± 383 ns per loop (mean ± std. dev. of 7 runs, 10000 loops each)\n",
      "backward: \n",
      "1.18 ms ± 3.93 µs per loop (mean ± std. dev. of 7 runs, 1000 loops each)\n"
     ]
    }
   ],
   "source": [
    "main(\"cuda:0\")"
   ]
  },
  {
   "cell_type": "markdown",
   "metadata": {},
   "source": [
    "## After"
   ]
  },
  {
   "cell_type": "code",
   "execution_count": 4,
   "metadata": {
    "scrolled": true
   },
   "outputs": [
    {
     "name": "stdout",
     "output_type": "stream",
     "text": [
      "1.5.0a0+4b1e75b\n",
      "\n",
      "forward: \n",
      "126 µs ± 183 ns per loop (mean ± std. dev. of 7 runs, 10000 loops each)\n",
      "backward: \n",
      "1.17 ms ± 1.27 µs per loop (mean ± std. dev. of 7 runs, 1000 loops each)\n"
     ]
    }
   ],
   "source": [
    "main(\"cuda:0\")"
   ]
  },
  {
   "cell_type": "code",
   "execution_count": null,
   "metadata": {},
   "outputs": [],
   "source": []
  }
 ],
 "metadata": {
  "kernelspec": {
   "display_name": "Python 3.7.6 64-bit",
   "language": "python",
   "name": "python37664bitfce950e88ea94256bae6c6f663f53e68"
  },
  "language_info": {
   "codemirror_mode": {
    "name": "ipython",
    "version": 3
   },
   "file_extension": ".py",
   "mimetype": "text/x-python",
   "name": "python",
   "nbconvert_exporter": "python",
   "pygments_lexer": "ipython3",
   "version": "3.7.6"
  }
 },
 "nbformat": 4,
 "nbformat_minor": 4
}
