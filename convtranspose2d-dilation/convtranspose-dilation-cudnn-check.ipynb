{
 "cells": [
  {
   "cell_type": "code",
   "execution_count": 1,
   "metadata": {},
   "outputs": [
    {
     "name": "stdout",
     "output_type": "stream",
     "text": [
      "1.6.0a0+77b4e2d\n"
     ]
    }
   ],
   "source": [
    "import torch \n",
    "import time\n",
    "\n",
    "print(torch.__version__)\n",
    "\n",
    "warmup_iter_raw = 1000\n",
    "prof_iter_raw = 1000\n",
    "\n",
    "def test_convtranspose2d(bs, c, hw, ks, stride, pad, outpad, dilation):\n",
    "    warmup_iter = warmup_iter_raw\n",
    "    prof_iter = prof_iter_raw\n",
    "    \n",
    "    if c >= 256: \n",
    "        warmup_iter //= 10 \n",
    "        prof_iter //= 10 \n",
    "        \n",
    "    print(bs, c, hw, ks, stride, pad, outpad, dilation)\n",
    "    x = torch.randn(bs, c, hw, hw, device='cuda', dtype=torch.half, requires_grad=True)  \n",
    "    conv = torch.nn.ConvTranspose2d(\n",
    "        in_channels=c, \n",
    "        out_channels=c, \n",
    "        kernel_size=ks, \n",
    "        stride=stride, \n",
    "        padding=pad, \n",
    "        output_padding=outpad, \n",
    "        groups=c,\n",
    "        bias=False, \n",
    "        dilation=dilation\n",
    "    ).half().cuda()\n",
    "\n",
    "    y:torch.Tensor = conv(x)\n",
    "    g = torch.ones_like(y)\n",
    "\n",
    "    for warm_up in range(warmup_iter): \n",
    "        y = conv(x)\n",
    "        y.backward(g)\n",
    "\n",
    "    torch.cuda.synchronize()\n",
    "    ts = time.time() \n",
    "\n",
    "    for it in range(prof_iter): \n",
    "        y = conv(x)\n",
    "\n",
    "    torch.cuda.synchronize()\n",
    "    te = time.time()\n",
    "\n",
    "    t_forward = (te-ts)/prof_iter\n",
    "    print(f'forward {t_forward: .3e}')\n",
    "\n",
    "    ts = time.time()\n",
    "    torch.cuda.synchronize() \n",
    "\n",
    "    for it in range(prof_iter): \n",
    "        y.backward(g, retain_graph=True)\n",
    "\n",
    "    torch.cuda.synchronize()\n",
    "    te = time.time()\n",
    "\n",
    "    t_backward = (te-ts)/prof_iter\n",
    "    print(f'backward {t_backward: .3e}')\n",
    "\n",
    "    print(f'total {t_forward + t_backward: .3e}')\n",
    "    \n",
    "    print()"
   ]
  },
  {
   "cell_type": "code",
   "execution_count": 2,
   "metadata": {},
   "outputs": [],
   "source": [
    "def test():  \n",
    "    print('bs c hw ks stride pad outpad dilation\\n')\n",
    "    # def test_convtranspose2d(bs, c, hw, ks, stride, pad, outpad, dilation)\n",
    "    \n",
    "    test_convtranspose2d(32, 128, 7, 1, 2, 0, 0, 2)\n",
    "    test_convtranspose2d(32, 128, 7, 1, 1, 0, 0, 2)\n",
    "    test_convtranspose2d(8, 128, 14, 1, 1, 0, 0, 3)\n",
    "    test_convtranspose2d(1, 128, 7, 1, 3, 0, 1, 2)\n",
    "    \n",
    "    test_convtranspose2d(32, 512, 7, 1, 3, 0, 2, 2)\n",
    "    test_convtranspose2d(8, 512, 14, 3, 2, 1, 1, 1)\n",
    "    test_convtranspose2d(32, 256, 7, 1, 3, 0, 1, 1)\n",
    "    test_convtranspose2d(1, 512, 14, 3, 3, 1, 1, 1)"
   ]
  },
  {
   "cell_type": "code",
   "execution_count": 15,
   "metadata": {
    "scrolled": false
   },
   "outputs": [
    {
     "name": "stdout",
     "output_type": "stream",
     "text": [
      "master\n",
      "bs c hw ks stride pad outpad dilation\n",
      "\n",
      "32 128 7 1 2 0 0 2\n",
      "forward  7.415e-05\n",
      "backward  2.432e-03\n",
      "total  2.506e-03\n",
      "\n",
      "32 128 7 1 1 0 0 2\n",
      "forward  7.270e-05\n",
      "backward  3.238e-03\n",
      "total  3.311e-03\n",
      "\n",
      "8 128 14 1 1 0 0 3\n",
      "forward  7.214e-05\n",
      "backward  3.232e-03\n",
      "total  3.304e-03\n",
      "\n",
      "1 128 7 1 3 0 1 2\n",
      "forward  7.211e-05\n",
      "backward  3.110e-03\n",
      "total  3.182e-03\n",
      "\n",
      "32 512 7 1 3 0 2 2\n",
      "forward  1.974e-01\n",
      "backward  3.896e-01\n",
      "total  5.870e-01\n",
      "\n",
      "8 512 14 3 2 1 1 1\n",
      "forward  8.204e-02\n",
      "backward  1.598e-01\n",
      "total  2.418e-01\n",
      "\n",
      "32 256 7 1 3 0 1 1\n",
      "forward  9.928e-02\n",
      "backward  1.947e-01\n",
      "total  2.940e-01\n",
      "\n",
      "1 512 14 3 3 1 1 1\n",
      "forward  3.833e-02\n",
      "backward  8.089e-02\n",
      "total  1.192e-01\n",
      "\n"
     ]
    }
   ],
   "source": [
    "print('master')\n",
    "test()"
   ]
  },
  {
   "cell_type": "code",
   "execution_count": 3,
   "metadata": {},
   "outputs": [
    {
     "name": "stdout",
     "output_type": "stream",
     "text": [
      "without dilation check\n",
      "bs c hw ks stride pad outpad dilation\n",
      "\n",
      "32 128 7 1 2 0 0 2\n",
      "forward  9.304e-05\n",
      "backward  2.358e-03\n",
      "total  2.451e-03\n",
      "\n",
      "32 128 7 1 1 0 0 2\n",
      "forward  7.569e-05\n",
      "backward  3.104e-03\n",
      "total  3.180e-03\n",
      "\n",
      "8 128 14 1 1 0 0 3\n",
      "forward  7.390e-05\n",
      "backward  3.123e-03\n",
      "total  3.197e-03\n",
      "\n",
      "1 128 7 1 3 0 1 2\n",
      "forward  7.711e-05\n",
      "backward  2.982e-03\n",
      "total  3.059e-03\n",
      "\n",
      "32 512 7 1 3 0 2 2\n",
      "forward  2.085e-04\n",
      "backward  1.152e-02\n",
      "total  1.173e-02\n",
      "\n",
      "8 512 14 3 2 1 1 1\n",
      "forward  1.887e-04\n",
      "backward  1.424e-04\n",
      "total  3.311e-04\n",
      "\n",
      "32 256 7 1 3 0 1 1\n",
      "forward  1.264e-04\n",
      "backward  3.502e-03\n",
      "total  3.629e-03\n",
      "\n",
      "1 512 14 3 3 1 1 1\n",
      "forward  7.291e-05\n",
      "backward  1.455e-04\n",
      "total  2.184e-04\n",
      "\n"
     ]
    }
   ],
   "source": [
    "print('without dilation check')\n",
    "test()"
   ]
  },
  {
   "cell_type": "code",
   "execution_count": null,
   "metadata": {},
   "outputs": [],
   "source": []
  }
 ],
 "metadata": {
  "kernelspec": {
   "display_name": "Python 3.7.6 64-bit",
   "language": "python",
   "name": "python37664bitfce950e88ea94256bae6c6f663f53e68"
  },
  "language_info": {
   "codemirror_mode": {
    "name": "ipython",
    "version": 3
   },
   "file_extension": ".py",
   "mimetype": "text/x-python",
   "name": "python",
   "nbconvert_exporter": "python",
   "pygments_lexer": "ipython3",
   "version": "3.7.6"
  }
 },
 "nbformat": 4,
 "nbformat_minor": 2
}
