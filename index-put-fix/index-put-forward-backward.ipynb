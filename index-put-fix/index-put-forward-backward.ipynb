{
 "cells": [
  {
   "cell_type": "code",
   "execution_count": 1,
   "metadata": {},
   "outputs": [],
   "source": [
    "# PR: https://github.com/pytorch/pytorch/pull/33753\n",
    "\n",
    "def main(device):\n",
    "    import torch \n",
    "    print(torch.__version__)\n",
    "\n",
    "    N = (1 << 29) - 2\n",
    "    NA = 1 << 25\n",
    "    \n",
    "    dtype = torch.float\n",
    "\n",
    "    a = torch.zeros(N, device=device, dtype=dtype, requires_grad=True)\n",
    "    \n",
    "    indices = torch.randint(0, NA, (NA, ), device=device, dtype=torch.long)\n",
    "    \n",
    "    values = torch.ones_like(indices, dtype=dtype)\n",
    "\n",
    "    %timeit a.index_put((indices, ), values, accumulate=True)\n",
    "\n",
    "    b = a.index_put((indices, ), values, accumulate=True).sum()\n",
    "    \n",
    "    %timeit b.backward(retain_graph=True)    "
   ]
  },
  {
   "cell_type": "markdown",
   "metadata": {},
   "source": [
    "## Before"
   ]
  },
  {
   "cell_type": "code",
   "execution_count": 2,
   "metadata": {},
   "outputs": [
    {
     "name": "stdout",
     "output_type": "stream",
     "text": [
      "1.5.0a0+4460c8b\n",
      "1.56 s ± 7.7 ms per loop (mean ± std. dev. of 7 runs, 1 loop each)\n",
      "149 ms ± 531 µs per loop (mean ± std. dev. of 7 runs, 1 loop each)\n",
      "1.5.0a0+4460c8b\n",
      "60.5 ms ± 11.9 µs per loop (mean ± std. dev. of 7 runs, 10 loops each)\n",
      "7.36 ms ± 27.2 ns per loop (mean ± std. dev. of 7 runs, 1000 loops each)\n"
     ]
    }
   ],
   "source": [
    "main(\"cpu\")\n",
    "main(\"cuda:0\")"
   ]
  },
  {
   "cell_type": "markdown",
   "metadata": {},
   "source": [
    "## After"
   ]
  },
  {
   "cell_type": "code",
   "execution_count": 2,
   "metadata": {},
   "outputs": [
    {
     "name": "stdout",
     "output_type": "stream",
     "text": [
      "1.5.0a0+2f8ed14\n",
      "1.61 s ± 42.3 ms per loop (mean ± std. dev. of 7 runs, 1 loop each)\n",
      "154 ms ± 1.42 ms per loop (mean ± std. dev. of 7 runs, 1 loop each)\n",
      "1.5.0a0+2f8ed14\n",
      "64.9 ms ± 28.8 µs per loop (mean ± std. dev. of 7 runs, 10 loops each)\n",
      "7.36 ms ± 50.7 ns per loop (mean ± std. dev. of 7 runs, 1000 loops each)\n"
     ]
    }
   ],
   "source": [
    "main(\"cpu\")\n",
    "main(\"cuda:0\")"
   ]
  },
  {
   "cell_type": "code",
   "execution_count": null,
   "metadata": {},
   "outputs": [],
   "source": []
  }
 ],
 "metadata": {
  "kernelspec": {
   "display_name": "Python 3.7.5 64-bit",
   "language": "python",
   "name": "python37564bit60e57c818ef44aef9efb750a08331318"
  },
  "language_info": {
   "codemirror_mode": {
    "name": "ipython",
    "version": 3
   },
   "file_extension": ".py",
   "mimetype": "text/x-python",
   "name": "python",
   "nbconvert_exporter": "python",
   "pygments_lexer": "ipython3",
   "version": "3.7.5"
  }
 },
 "nbformat": 4,
 "nbformat_minor": 4
}
