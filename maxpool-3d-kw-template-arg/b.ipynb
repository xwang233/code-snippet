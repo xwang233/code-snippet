{
 "cells": [
  {
   "cell_type": "code",
   "execution_count": 1,
   "metadata": {},
   "outputs": [],
   "source": [
    "import seaborn as sns\n",
    "import matplotlib.pyplot as plt\n",
    "\n",
    "def compare(name: str):\n",
    "    def parse(_name: str):\n",
    "        with open(_name, 'r') as f:\n",
    "            ln = f.readlines()\n",
    "            \n",
    "        d = {}\n",
    "        for line in ln:\n",
    "            idx = line.index('#')\n",
    "            key = line[:idx]\n",
    "            val = float(line[idx+1:])\n",
    "            \n",
    "            d[key] = val\n",
    "        \n",
    "        return d\n",
    "    \n",
    "    print(name)\n",
    "    before_name = 'before-' + name\n",
    "    after_name = 'after-' + name\n",
    "    \n",
    "    d_before = parse(before_name)\n",
    "    d_after = parse(after_name)\n",
    "    diff = []\n",
    "    \n",
    "    for key in d_before:\n",
    "        assert key in d_after\n",
    "        \n",
    "        tb = d_before[key]\n",
    "        ta = d_after[key]\n",
    "        \n",
    "        diff.append(ta/tb)\n",
    "        \n",
    "        if ta / tb > 1.1:\n",
    "            print(f'(*shape, k, dim)={key.rstrip()},  time after ={ta : .3e} ms,  '\n",
    "                  f'time before ={tb : .3e} ms,  '\n",
    "                  f'slow down{ta/tb : .3e}')\n",
    "    \n",
    "    ax = sns.distplot(diff, bins=40)\n",
    "    ax.set(xlabel='time after / time before (smaller is better)', ylabel='PDF', xlim=(0, 1.5))\n",
    "    plt.show()"
   ]
  },
  {
   "cell_type": "code",
   "execution_count": 2,
   "metadata": {},
   "outputs": [
    {
     "name": "stdout",
     "output_type": "stream",
     "text": [
      "cuda-torch.float32.txt\n"
     ]
    },
    {
     "data": {
      "image/png": "[encoded data removed]",
      "text/plain": [
       "<Figure size 432x288 with 1 Axes>"
      ]
     },
     "metadata": {
      "needs_background": "light"
     },
     "output_type": "display_data"
    },
    {
     "name": "stdout",
     "output_type": "stream",
     "text": [
      "cuda-torch.float16.txt\n"
     ]
    },
    {
     "data": {
      "image/png": "[encoded data removed]",
      "text/plain": [
       "<Figure size 432x288 with 1 Axes>"
      ]
     },
     "metadata": {
      "needs_background": "light"
     },
     "output_type": "display_data"
    }
   ],
   "source": [
    "compare('cuda-torch.float32.txt')\n",
    "compare('cuda-torch.float16.txt')"
   ]
  },
  {
   "cell_type": "code",
   "execution_count": null,
   "metadata": {},
   "outputs": [],
   "source": []
  }
 ],
 "metadata": {
  "kernelspec": {
   "display_name": "Python 3.7.6 64-bit",
   "language": "python",
   "name": "python37664bitfce950e88ea94256bae6c6f663f53e68"
  },
  "language_info": {
   "codemirror_mode": {
    "name": "ipython",
    "version": 3
   },
   "file_extension": ".py",
   "mimetype": "text/x-python",
   "name": "python",
   "nbconvert_exporter": "python",
   "pygments_lexer": "ipython3",
   "version": "3.7.7"
  }
 },
 "nbformat": 4,
 "nbformat_minor": 2
}
