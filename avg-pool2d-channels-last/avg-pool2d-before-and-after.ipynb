{
 "cells": [
  {
   "cell_type": "code",
   "execution_count": 26,
   "metadata": {},
   "outputs": [],
   "source": [
    "def main(file):\n",
    "    import torch \n",
    "    import time \n",
    "    \n",
    "    f = open(file, 'w')\n",
    "\n",
    "    print(torch.__version__)\n",
    "\n",
    "    dtype=torch.half\n",
    "    warm_up = 1000 \n",
    "    n_iter = 1000\n",
    "\n",
    "    f.write('n c h w ks\\n')\n",
    "    \n",
    "    for n in (1, 32, 64): \n",
    "        for c in (1, 32, 64): \n",
    "            for h in (14, 28, 56, 128, 256): \n",
    "                w = h\n",
    "                for ks in (2, 3, 5, 7): \n",
    "                    torch.cuda.empty_cache() \n",
    "\n",
    "                    f.write(f'{n} {c} {h} {w} {ks}\\n')\n",
    "\n",
    "                    ref_a = torch.randn(n, c, h, w, dtype=dtype, device='cuda').contiguous()\n",
    "                    ref_a.requires_grad_() \n",
    "                    ref_pool = torch.nn.AvgPool2d(ks).cuda()\n",
    "                    ref_out = ref_pool(ref_a)\n",
    "\n",
    "                    grad = torch.ones_like(ref_out)\n",
    "                    ref_out.backward(grad, retain_graph=True)\n",
    "\n",
    "                    ########## warm up ##########\n",
    "                    for _ in range(warm_up): \n",
    "                        ref_out = ref_pool(ref_a)\n",
    "                        ref_out.backward(grad, retain_graph=True)\n",
    "\n",
    "                    ########## contiguous forward ##########\n",
    "                    torch.cuda.synchronize()\n",
    "                    ts = time.time()\n",
    "\n",
    "                    for _ in range(n_iter):\n",
    "                        ref_out = ref_pool(ref_a)\n",
    "                        torch.cuda.synchronize() \n",
    "                        \n",
    "                    f.write('{:e}\\n'.format((time.time() - ts) / n_iter))\n",
    "\n",
    "                    ########## contiguous backward ##########\n",
    "                    torch.cuda.synchronize()\n",
    "                    ts = time.time()\n",
    "\n",
    "                    for _ in range(n_iter):\n",
    "                        ref_out.backward(grad, retain_graph=True)\n",
    "                        torch.cuda.synchronize() \n",
    "\n",
    "                    f.write('{:e}\\n'.format((time.time() - ts) / n_iter))\n",
    "                    \n",
    "                    f.flush()\n",
    "    f.close()"
   ]
  },
  {
   "cell_type": "markdown",
   "metadata": {},
   "source": [
    "## Before"
   ]
  },
  {
   "cell_type": "code",
   "execution_count": 27,
   "metadata": {
    "scrolled": true
   },
   "outputs": [
    {
     "name": "stdout",
     "output_type": "stream",
     "text": [
      "1.6.0a0+301be85\n"
     ]
    }
   ],
   "source": [
    "main('before.txt')"
   ]
  },
  {
   "cell_type": "markdown",
   "metadata": {},
   "source": [
    "## After"
   ]
  },
  {
   "cell_type": "code",
   "execution_count": 23,
   "metadata": {
    "scrolled": true
   },
   "outputs": [
    {
     "name": "stdout",
     "output_type": "stream",
     "text": [
      "1.6.0a0+0a8fd79\n"
     ]
    }
   ],
   "source": [
    "main('after.txt')"
   ]
  },
  {
   "cell_type": "markdown",
   "metadata": {},
   "source": [
    "## Compare"
   ]
  },
  {
   "cell_type": "code",
   "execution_count": 23,
   "metadata": {},
   "outputs": [],
   "source": [
    "import numpy as np \n",
    "import seaborn as sns\n",
    "import matplotlib.pyplot as plt \n",
    "\n",
    "with open('before.txt', 'r') as f: \n",
    "    before = f.readlines() \n",
    "with open('after.txt', 'r') as f: \n",
    "    after = f.readlines() \n",
    "\n",
    "def parse(lines):\n",
    "    d_fwd_time = {}\n",
    "    d_back_time = {}\n",
    "    \n",
    "    for i in range(1, len(lines), 3): \n",
    "        line = lines[i] \n",
    "        \n",
    "        tensor_size = line.rstrip()\n",
    "        \n",
    "        key = tensor_size\n",
    "        \n",
    "        def parse_time(linex):\n",
    "            t = float(linex.rstrip())\n",
    "            \n",
    "            return t\n",
    "            \n",
    "        fwd_time = parse_time(lines[i+1])\n",
    "        back_time = parse_time(lines[i+2])\n",
    "    \n",
    "        d_fwd_time[key] = fwd_time \n",
    "        d_back_time[key] = back_time\n",
    "        \n",
    "    return (d_fwd_time, d_back_time)   \n",
    "\n",
    "d_fwd_before, d_back_before = parse(before)\n",
    "d_fwd_after, d_back_after = parse(after)\n",
    "\n",
    "def compare(d_before, d_after, s): \n",
    "    print('compare for', s)\n",
    "    print()\n",
    "    print('tensor size\\tbefore\\t\\tafter\\t\\tregression')\n",
    "    \n",
    "    diffs = []\n",
    "    for key in d_before: \n",
    "        t_before = d_before[key] \n",
    "        t_after = d_after[key] \n",
    "        \n",
    "        diffs.append((t_after - t_before)/t_before * 100)\n",
    "        \n",
    "        if (t_after - t_before) / t_before > 0.05: \n",
    "            print(f\"{key}\", f\"{t_before: e}\", f\"{t_after: e}\", \n",
    "                  f\"{(t_after - t_before) / t_before * 100.0 : .1f}%\", sep='\\t')\n",
    "    \n",
    "    print()\n",
    "    print('(t_after - t_before) / t_before:')\n",
    "    print('mean =', np.mean(diffs), '%')\n",
    "    print('median =', np.median(diffs), '%')\n",
    "    print('max =', np.max(diffs), '%')\n",
    "    print('min =', np.min(diffs), '%')\n",
    "    \n",
    "    ax = sns.distplot(diffs)\n",
    "    ax.set(xlabel='percentage regression', ylabel='PDF')\n",
    "    plt.show()"
   ]
  },
  {
   "cell_type": "code",
   "execution_count": 24,
   "metadata": {},
   "outputs": [
    {
     "name": "stdout",
     "output_type": "stream",
     "text": [
      "compare for forward\n",
      "\n",
      "tensor size\tbefore\t\tafter\t\tregression\n",
      "1 1 14 14 2\t 3.912520e-05\t 5.678129e-05\t 45.1%\n",
      "1 1 14 14 3\t 3.828764e-05\t 5.722356e-05\t 49.5%\n",
      "1 1 14 14 5\t 3.844523e-05\t 5.811620e-05\t 51.2%\n",
      "1 1 14 14 7\t 3.811097e-05\t 5.710435e-05\t 49.8%\n",
      "1 1 28 28 2\t 3.830910e-05\t 5.847812e-05\t 52.6%\n",
      "1 1 28 28 3\t 3.988004e-05\t 5.724478e-05\t 43.5%\n",
      "1 1 28 28 5\t 3.808188e-05\t 5.768013e-05\t 51.5%\n",
      "1 1 28 28 7\t 3.894496e-05\t 5.804992e-05\t 49.1%\n",
      "1 1 56 56 2\t 3.859282e-05\t 5.799818e-05\t 50.3%\n",
      "1 1 56 56 3\t 3.817582e-05\t 5.756497e-05\t 50.8%\n",
      "1 1 56 56 5\t 3.860760e-05\t 5.798054e-05\t 50.2%\n",
      "1 1 56 56 7\t 3.854465e-05\t 5.855179e-05\t 51.9%\n",
      "1 1 128 128 2\t 3.887963e-05\t 5.698729e-05\t 46.6%\n",
      "1 1 128 128 3\t 3.784823e-05\t 5.686116e-05\t 50.2%\n",
      "1 1 128 128 5\t 3.960991e-05\t 5.684137e-05\t 43.5%\n",
      "1 1 128 128 7\t 3.916359e-05\t 5.739307e-05\t 46.5%\n",
      "1 1 256 256 2\t 4.589725e-05\t 5.770445e-05\t 25.7%\n",
      "1 32 14 14 3\t 5.479360e-05\t 5.765033e-05\t 5.2%\n",
      "1 64 14 14 5\t 5.524564e-05\t 5.966640e-05\t 8.0%\n",
      "1 64 28 28 5\t 5.404615e-05\t 5.726123e-05\t 5.9%\n",
      "1 64 56 56 2\t 5.427790e-05\t 5.819511e-05\t 7.2%\n",
      "1 64 56 56 3\t 5.520225e-05\t 5.823803e-05\t 5.5%\n",
      "1 64 56 56 7\t 5.434752e-05\t 5.755854e-05\t 5.9%\n",
      "1 64 128 128 2\t 5.548811e-05\t 5.832028e-05\t 5.1%\n",
      "1 64 128 128 3\t 5.500340e-05\t 5.796719e-05\t 5.4%\n",
      "32 32 56 56 5\t 5.560684e-05\t 6.042218e-05\t 8.7%\n",
      "32 64 28 28 3\t 3.995585e-05\t 4.782963e-05\t 19.7%\n",
      "32 64 28 28 5\t 4.954576e-05\t 6.217003e-05\t 25.5%\n",
      "\n",
      "(t_after - t_before) / t_before:\n",
      "mean = 5.764659634198704 %\n",
      "median = 1.1309794270924347 %\n",
      "max = 52.64811754909407 %\n",
      "min = -8.739544043084885 %\n"
     ]
    },
    {
     "data": {
      "image/png": "[encoded data removed]",
      "text/plain": [
       "<Figure size 432x288 with 1 Axes>"
      ]
     },
     "metadata": {
      "needs_background": "light"
     },
     "output_type": "display_data"
    }
   ],
   "source": [
    "compare(d_fwd_before, d_fwd_after, 'forward')"
   ]
  },
  {
   "cell_type": "code",
   "execution_count": 25,
   "metadata": {},
   "outputs": [
    {
     "name": "stdout",
     "output_type": "stream",
     "text": [
      "compare for backward\n",
      "\n",
      "tensor size\tbefore\t\tafter\t\tregression\n",
      "1 1 14 14 2\t 8.868170e-05\t 1.168108e-04\t 31.7%\n",
      "1 1 14 14 3\t 8.836126e-05\t 1.155424e-04\t 30.8%\n",
      "1 1 14 14 5\t 8.954978e-05\t 1.156039e-04\t 29.1%\n",
      "1 1 14 14 7\t 8.835721e-05\t 1.169155e-04\t 32.3%\n",
      "1 1 28 28 2\t 8.956075e-05\t 1.181319e-04\t 31.9%\n",
      "1 1 28 28 3\t 8.882093e-05\t 1.146982e-04\t 29.1%\n",
      "1 1 28 28 5\t 8.816600e-05\t 1.166298e-04\t 32.3%\n",
      "1 1 28 28 7\t 8.771634e-05\t 1.190863e-04\t 35.8%\n",
      "1 1 56 56 2\t 8.897233e-05\t 1.150522e-04\t 29.3%\n",
      "1 1 56 56 3\t 9.420919e-05\t 1.164215e-04\t 23.6%\n",
      "1 1 56 56 5\t 8.860826e-05\t 1.153715e-04\t 30.2%\n",
      "1 1 56 56 7\t 8.939481e-05\t 1.252246e-04\t 40.1%\n",
      "1 1 128 128 2\t 8.899236e-05\t 1.112418e-04\t 25.0%\n",
      "1 1 128 128 3\t 8.717895e-05\t 1.136456e-04\t 30.4%\n",
      "1 1 128 128 5\t 8.773994e-05\t 1.120889e-04\t 27.8%\n",
      "1 1 128 128 7\t 8.907938e-05\t 1.123686e-04\t 26.1%\n",
      "1 1 256 256 5\t 1.070549e-04\t 1.136017e-04\t 6.1%\n",
      "1 32 14 14 2\t 1.063941e-04\t 1.137426e-04\t 6.9%\n",
      "1 32 14 14 3\t 1.065946e-04\t 1.180937e-04\t 10.8%\n",
      "1 32 14 14 5\t 1.066260e-04\t 1.140392e-04\t 7.0%\n",
      "1 32 14 14 7\t 1.071711e-04\t 1.128955e-04\t 5.3%\n",
      "1 32 28 28 2\t 1.075957e-04\t 1.132720e-04\t 5.3%\n",
      "1 32 28 28 5\t 1.065495e-04\t 1.124296e-04\t 5.5%\n",
      "1 32 56 56 3\t 1.071668e-04\t 1.141505e-04\t 6.5%\n",
      "1 32 56 56 5\t 1.077669e-04\t 1.131613e-04\t 5.0%\n",
      "1 32 56 56 7\t 1.066642e-04\t 1.141429e-04\t 7.0%\n",
      "1 64 14 14 3\t 1.021159e-04\t 1.145406e-04\t 12.2%\n",
      "1 64 14 14 5\t 1.044466e-04\t 1.153893e-04\t 10.5%\n",
      "1 64 14 14 7\t 1.040316e-04\t 1.133549e-04\t 9.0%\n",
      "1 64 28 28 2\t 1.043246e-04\t 1.113329e-04\t 6.7%\n",
      "1 64 28 28 3\t 1.032171e-04\t 1.167011e-04\t 13.1%\n",
      "1 64 28 28 5\t 1.030910e-04\t 1.177602e-04\t 14.2%\n",
      "1 64 28 28 7\t 1.040297e-04\t 1.209190e-04\t 16.2%\n",
      "1 64 56 56 2\t 1.025877e-04\t 1.156003e-04\t 12.7%\n",
      "1 64 56 56 5\t 1.098716e-04\t 1.166635e-04\t 6.2%\n",
      "1 64 56 56 7\t 1.094835e-04\t 1.162441e-04\t 6.2%\n",
      "1 64 128 128 2\t 1.428459e-04\t 1.519508e-04\t 6.4%\n",
      "1 64 128 128 3\t 1.338980e-04\t 1.444263e-04\t 7.9%\n",
      "32 1 14 14 2\t 1.096880e-04\t 1.164761e-04\t 6.2%\n",
      "32 1 28 28 2\t 1.104922e-04\t 1.161048e-04\t 5.1%\n",
      "32 1 28 28 5\t 1.117663e-04\t 1.179719e-04\t 5.6%\n",
      "32 1 56 56 2\t 1.095414e-04\t 1.170008e-04\t 6.8%\n",
      "32 1 128 128 2\t 1.097870e-04\t 1.159363e-04\t 5.6%\n",
      "32 1 128 128 3\t 1.105313e-04\t 1.167860e-04\t 5.7%\n",
      "32 1 128 128 5\t 1.101718e-04\t 1.168101e-04\t 6.0%\n",
      "32 1 128 128 7\t 1.116641e-04\t 1.178539e-04\t 5.5%\n",
      "32 32 28 28 2\t 1.117814e-04\t 1.187067e-04\t 6.2%\n",
      "32 32 28 28 5\t 1.114190e-04\t 1.173205e-04\t 5.3%\n",
      "32 64 14 14 2\t 8.774304e-05\t 9.460211e-05\t 7.8%\n",
      "32 64 14 14 5\t 8.598328e-05\t 9.071565e-05\t 5.5%\n",
      "32 64 28 28 3\t 1.667457e-04\t 1.811805e-04\t 8.7%\n",
      "64 1 14 14 5\t 8.661366e-05\t 9.158278e-05\t 5.7%\n",
      "64 1 28 28 2\t 8.673191e-05\t 9.292984e-05\t 7.1%\n",
      "64 1 28 28 3\t 8.600879e-05\t 9.130979e-05\t 6.2%\n",
      "64 1 28 28 5\t 8.544588e-05\t 9.028244e-05\t 5.7%\n",
      "64 1 28 28 7\t 9.800625e-05\t 1.036160e-04\t 5.7%\n",
      "64 1 56 56 2\t 1.083443e-04\t 1.139967e-04\t 5.2%\n",
      "64 1 56 56 5\t 1.070347e-04\t 1.130648e-04\t 5.6%\n",
      "64 1 56 56 7\t 1.084876e-04\t 1.148183e-04\t 5.8%\n",
      "64 1 128 128 2\t 1.433113e-04\t 1.513786e-04\t 5.6%\n",
      "64 1 128 128 3\t 1.328878e-04\t 1.427889e-04\t 7.5%\n",
      "64 32 14 14 2\t 1.080310e-04\t 1.177654e-04\t 9.0%\n",
      "64 32 14 14 3\t 1.091573e-04\t 1.156800e-04\t 6.0%\n",
      "64 32 14 14 5\t 1.086116e-04\t 1.162894e-04\t 7.1%\n",
      "64 32 14 14 7\t 1.092594e-04\t 1.170928e-04\t 7.2%\n",
      "64 64 14 14 2\t 9.561777e-05\t 1.026742e-04\t 7.4%\n",
      "64 64 14 14 3\t 9.621406e-05\t 1.032510e-04\t 7.3%\n",
      "\n",
      "(t_after - t_before) / t_before:\n",
      "mean = 6.069402524845566 %\n",
      "median = 3.833858845713422 %\n",
      "max = 40.08039169164295 %\n",
      "min = -2.363105563782524 %\n"
     ]
    },
    {
     "data": {
      "image/png": "[encoded data removed]",
      "text/plain": [
       "<Figure size 432x288 with 1 Axes>"
      ]
     },
     "metadata": {
      "needs_background": "light"
     },
     "output_type": "display_data"
    }
   ],
   "source": [
    "compare(d_back_before, d_back_after, 'backward')"
   ]
  },
  {
   "cell_type": "code",
   "execution_count": null,
   "metadata": {},
   "outputs": [],
   "source": []
  }
 ],
 "metadata": {
  "kernelspec": {
   "display_name": "Python 3.7.6 64-bit",
   "language": "python",
   "name": "python37664bitfce950e88ea94256bae6c6f663f53e68"
  },
  "language_info": {
   "codemirror_mode": {
    "name": "ipython",
    "version": 3
   },
   "file_extension": ".py",
   "mimetype": "text/x-python",
   "name": "python",
   "nbconvert_exporter": "python",
   "pygments_lexer": "ipython3",
   "version": "3.7.6"
  }
 },
 "nbformat": 4,
 "nbformat_minor": 4
}
