{
 "cells": [
  {
   "cell_type": "code",
   "execution_count": null,
   "metadata": {
    "scrolled": false
   },
   "outputs": [],
   "source": [
    "import torch \n",
    "import time \n",
    "\n",
    "print(torch.__version__)\n",
    "\n",
    "dtype=torch.half\n",
    "warm_up = 1000 \n",
    "n_iter = 1000\n",
    "\n",
    "fs = [] \n",
    "bs = []\n",
    "\n",
    "for n in (1, 32, 64): \n",
    "    for c in (1, 32, 64): \n",
    "        for h in (14, 28, 56, 128, 256): \n",
    "            w = h\n",
    "            for ks in (2, 3, 5, 7): \n",
    "                torch.cuda.empty_cache() \n",
    "\n",
    "                print(f'n {n}, c {c}, h {h}, w {w}, ks {ks}', end='\\t')\n",
    "\n",
    "                a = torch.randn(n, c, h, w, dtype=dtype, device='cuda').contiguous(memory_format=torch.channels_last)\n",
    "                ref_a = a.clone().contiguous() \n",
    "\n",
    "                a.requires_grad_() \n",
    "                ref_a.requires_grad_() \n",
    "\n",
    "                pool = torch.nn.AvgPool2d(ks).cuda()\n",
    "                ref_pool = torch.nn.AvgPool2d(ks).cuda()\n",
    "\n",
    "                out = pool(a)\n",
    "                ref_out = ref_pool(ref_a)\n",
    "\n",
    "                grad = torch.ones_like(out)\n",
    "                out.backward(grad, retain_graph=True)\n",
    "                ref_out.backward(grad, retain_graph=True)\n",
    "\n",
    "                assert((out==ref_out).all().item())\n",
    "                assert((a.grad==ref_a.grad).all().item())\n",
    "\n",
    "                ########## warm up ##########\n",
    "                for _ in range(warm_up): \n",
    "                    out = pool(a)\n",
    "                    ref_out = ref_pool(ref_a)\n",
    "                    out.backward(grad, retain_graph=True)\n",
    "                    ref_out.backward(grad, retain_graph=True)\n",
    "\n",
    "                ########## channels_last forward 1 ##########\n",
    "                torch.cuda.synchronize() \n",
    "                ts = time.time() \n",
    "\n",
    "                for _ in range(n_iter): \n",
    "                    out = pool(a)\n",
    "                    torch.cuda.synchronize() \n",
    "\n",
    "                torch.cuda.synchronize() \n",
    "                t_channels_last_forward_1 = (time.time() - ts) / n_iter\n",
    "\n",
    "                ########## contiguous forward ##########\n",
    "                torch.cuda.synchronize()\n",
    "                ts = time.time() \n",
    "\n",
    "                for _ in range(n_iter): \n",
    "                    ref_out = ref_pool(ref_a)\n",
    "                    torch.cuda.synchronize() \n",
    "\n",
    "                torch.cuda.synchronize() \n",
    "                t_contiguous_forward = (time.time() - ts) / n_iter\n",
    "                \n",
    "                ########## channels_last forward 2 ##########\n",
    "                torch.cuda.synchronize() \n",
    "                ts = time.time() \n",
    "\n",
    "                for _ in range(n_iter): \n",
    "                    out = pool(a)\n",
    "                    torch.cuda.synchronize() \n",
    "\n",
    "                torch.cuda.synchronize() \n",
    "                t_channels_last_forward_2 = (time.time() - ts) / n_iter\n",
    "\n",
    "                ########## channels_last backward 1 ##########\n",
    "                torch.cuda.synchronize() \n",
    "                ts = time.time() \n",
    "\n",
    "                for _ in range(n_iter): \n",
    "                    out.backward(grad, retain_graph=True)\n",
    "                    torch.cuda.synchronize() \n",
    "\n",
    "                torch.cuda.synchronize() \n",
    "                t_channels_last_backward_1 = (time.time() - ts) / n_iter\n",
    "\n",
    "                ########## contiguous backward ##########\n",
    "                torch.cuda.synchronize()\n",
    "                ts = time.time() \n",
    "\n",
    "                for _ in range(n_iter): \n",
    "                    ref_out.backward(grad, retain_graph=True)\n",
    "                    torch.cuda.synchronize() \n",
    "\n",
    "                torch.cuda.synchronize() \n",
    "                t_contiguous_backward = (time.time() - ts) / n_iter\n",
    "                \n",
    "                ########## channels_last backward 2 ##########\n",
    "                torch.cuda.synchronize() \n",
    "                ts = time.time() \n",
    "\n",
    "                for _ in range(n_iter): \n",
    "                    out.backward(grad, retain_graph=True)\n",
    "                    torch.cuda.synchronize() \n",
    "\n",
    "                torch.cuda.synchronize() \n",
    "                t_channels_last_backward_2 = (time.time() - ts) / n_iter\n",
    "                \n",
    "                ########## stat ##########\n",
    "                t_channels_last_forward = 0.5 * (t_channels_last_forward_1 + t_channels_last_forward_2)\n",
    "                t_channels_last_backward = 0.5 * (t_channels_last_backward_1 + t_channels_last_backward_2)\n",
    "                \n",
    "                forward_speedup = t_contiguous_forward/t_channels_last_forward\n",
    "                backward_speedup = t_contiguous_backward/t_channels_last_backward\n",
    "                fs.append(forward_speedup)\n",
    "                bs.append(backward_speedup)\n",
    "                \n",
    "                ########## print ##########\n",
    "                print('channels_last speedup, forward {:.3f}, backward {:.3f}'.format(\n",
    "                    forward_speedup, backward_speedup\n",
    "                ))\n",
    "                "
   ]
  },
  {
   "cell_type": "code",
   "execution_count": 3,
   "metadata": {},
   "outputs": [
    {
     "data": {
      "image/png": "[encoded data removed]",
      "text/plain": [
       "<Figure size 432x288 with 1 Axes>"
      ]
     },
     "metadata": {
      "needs_background": "light"
     },
     "output_type": "display_data"
    },
    {
     "data": {
      "image/png": "[encoded data removed]",
      "text/plain": [
       "<Figure size 432x288 with 1 Axes>"
      ]
     },
     "metadata": {
      "needs_background": "light"
     },
     "output_type": "display_data"
    }
   ],
   "source": [
    "import seaborn as sns \n",
    "import matplotlib.pyplot as plt \n",
    "\n",
    "sns.distplot(fs, bins=40)\n",
    "plt.show() \n",
    "\n",
    "sns.distplot(bs, bins=40)\n",
    "plt.show()"
   ]
  },
  {
   "cell_type": "code",
   "execution_count": null,
   "metadata": {},
   "outputs": [],
   "source": []
  }
 ],
 "metadata": {
  "kernelspec": {
   "display_name": "Python 3.7.6 64-bit",
   "language": "python",
   "name": "python37664bitfce950e88ea94256bae6c6f663f53e68"
  },
  "language_info": {
   "codemirror_mode": {
    "name": "ipython",
    "version": 3
   },
   "file_extension": ".py",
   "mimetype": "text/x-python",
   "name": "python",
   "nbconvert_exporter": "python",
   "pygments_lexer": "ipython3",
   "version": "3.7.6"
  }
 },
 "nbformat": 4,
 "nbformat_minor": 2
}
