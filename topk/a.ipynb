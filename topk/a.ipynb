{
 "cells": [
  {
   "cell_type": "code",
   "execution_count": null,
   "metadata": {},
   "outputs": [],
   "source": [
    "import torch\n",
    "from torch.testing import _compare_tensors_internal\n",
    "\n",
    "import gc\n",
    "import time\n",
    "import random\n",
    "\n",
    "def p(device, dtype, msg):\n",
    "    def topKViaSort(x, k, dim):\n",
    "        val, idx = x.sort(dim, True)\n",
    "        return (val.narrow(dim, 0, k), idx.narrow(dim, 0, k))\n",
    "    def run(func, reps=200):\n",
    "        # warmup\n",
    "        for _ in range(reps):\n",
    "            func()\n",
    "        \n",
    "        torch.cuda.synchronize()\n",
    "        start_t = time.time()\n",
    "        \n",
    "        for _ in range(reps):\n",
    "            y = func()\n",
    "        \n",
    "        torch.cuda.synchronize()\n",
    "        end_t = time.time()\n",
    "        \n",
    "        return (end_t - start_t) / reps\n",
    "    \n",
    "    print(torch.__version__)\n",
    "    print('device:', device)\n",
    "    \n",
    "    ns = [1, 3, 10]\n",
    "    bs = [int(1e4), int(5e4), int(1e5), int(5e5), int(1e6), int(5e6), int(1e7), int(5e7), int(1e8)] \\\n",
    "        + torch.randint(int(1e5), int(1e7), (50, )).tolist()\n",
    "    ks = [1, 10, 50, 100, 500, 1000]\n",
    "    \n",
    "    sizes = []\n",
    "    for n1 in ns:\n",
    "        for n2 in ns:\n",
    "            for b in bs:\n",
    "                for k in ks:\n",
    "                    sizes.append((n1, n2, b, k, -1))\n",
    "                    sizes.append((n1, b, n2, k, 1))\n",
    "                    sizes.append((b, n1, n2, k, 0))\n",
    "    fn = f'{msg}-{device}-{dtype}.txt'\n",
    "    print(fn)\n",
    "    print(f'total {len(sizes)} sizes\\n')\n",
    "    \n",
    "    t1 = time.time()\n",
    "\n",
    "    with open(fn, 'w') as f:\n",
    "        for size in sizes:\n",
    "            try:\n",
    "                torch.cuda.empty_cache()\n",
    "                x = torch.randn(*size[:-2], device=device, dtype=dtype)\n",
    "\n",
    "                t = run(lambda: torch.topk(x, k=size[-2], dim=size[-1]))\n",
    "                t *= 1000\n",
    "                f.write(f'{size} # {t}\\n')\n",
    "\n",
    "                y1 = torch.topk(x, k=size[-2], dim=size[-1])\n",
    "                y2 = topKViaSort(x, k=size[-2], dim=size[-1])\n",
    "\n",
    "                # values should be exactly equal\n",
    "                a, b = _compare_tensors_internal(y1.values, y2[0], atol=0, rtol=0, equal_nan=False)\n",
    "                assert a, b\n",
    "\n",
    "\n",
    "                if not y1.indices.eq(y2[1]).all():\n",
    "                    vals = x.gather(index=y1.indices, dim=size[-1])\n",
    "                    a, b = _compare_tensors_internal(vals, y2[0], atol=0, rtol=0, equal_nan=False)\n",
    "                    assert a, b\n",
    "                    \n",
    "            except RuntimeError as e:\n",
    "                if str(e).startswith('CUDA out of memory'):\n",
    "                    print(f'{size} OOM')\n",
    "                    gc.collect()\n",
    "                    torch.cuda.empty_cache()\n",
    "                    continue\n",
    "                else:\n",
    "                    raise        \n",
    "                \n",
    "    t2 = time.time()\n",
    "    print(f'total time {t2 - t1}')"
   ]
  },
  {
   "cell_type": "code",
   "execution_count": null,
   "metadata": {
    "scrolled": true
   },
   "outputs": [],
   "source": [
    "p('cuda', torch.float, 'before')\n",
    "p('cuda', torch.half, 'before')"
   ]
  },
  {
   "cell_type": "code",
   "execution_count": null,
   "metadata": {},
   "outputs": [],
   "source": [
    "p('cuda', torch.float, 'after')\n",
    "p('cuda', torch.half, 'after')"
   ]
  },
  {
   "cell_type": "code",
   "execution_count": 6,
   "metadata": {},
   "outputs": [],
   "source": [
    "import seaborn as sns\n",
    "\n",
    "def compare(name: str):\n",
    "    def parse(_name: str):\n",
    "        with open(_name, 'r') as f:\n",
    "            ln = f.readlines()\n",
    "            \n",
    "        d = {}\n",
    "        for line in ln:\n",
    "            idx = line.index('#')\n",
    "            key = line[:idx]\n",
    "            val = float(line[idx+1:])\n",
    "            \n",
    "            d[key] = val\n",
    "        \n",
    "        return d\n",
    "    \n",
    "    print(name)\n",
    "    before_name = 'before-' + name\n",
    "    after_name = 'after-' + name\n",
    "    \n",
    "    d_before = parse(before_name)\n",
    "    d_after = parse(after_name)\n",
    "    diff = []\n",
    "    \n",
    "    for key in d_before:\n",
    "        assert key in d_after\n",
    "        \n",
    "        tb = d_before[key]\n",
    "        ta = d_after[key]\n",
    "        \n",
    "        diff.append((ta-tb)/tb)\n",
    "    \n",
    "    sns.distplot(diff)"
   ]
  },
  {
   "cell_type": "code",
   "execution_count": 8,
   "metadata": {},
   "outputs": [
    {
     "name": "stdout",
     "output_type": "stream",
     "text": [
      "cuda-torch.float32.txt\n"
     ]
    },
    {
     "name": "stderr",
     "output_type": "stream",
     "text": [
      "/home/xwang/.local/lib/python3.7/site-packages/seaborn/distributions.py:288: UserWarning: Data must have variance to compute a kernel density estimate.\n",
      "  warnings.warn(msg, UserWarning)\n"
     ]
    },
    {
     "data": {
      "image/png": "[encoded data removed]",
      "text/plain": [
       "<Figure size 432x288 with 1 Axes>"
      ]
     },
     "metadata": {
      "needs_background": "light"
     },
     "output_type": "display_data"
    }
   ],
   "source": [
    "compare('cuda-torch.float32.txt')\n",
    "# compare('cuda-torch.float16.txt')"
   ]
  },
  {
   "cell_type": "code",
   "execution_count": null,
   "metadata": {},
   "outputs": [],
   "source": []
  }
 ],
 "metadata": {
  "kernelspec": {
   "display_name": "Python 3.7.6 64-bit",
   "language": "python",
   "name": "python37664bitfce950e88ea94256bae6c6f663f53e68"
  },
  "language_info": {
   "codemirror_mode": {
    "name": "ipython",
    "version": 3
   },
   "file_extension": ".py",
   "mimetype": "text/x-python",
   "name": "python",
   "nbconvert_exporter": "python",
   "pygments_lexer": "ipython3",
   "version": "3.7.7"
  }
 },
 "nbformat": 4,
 "nbformat_minor": 2
}
