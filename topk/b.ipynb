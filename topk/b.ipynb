{
 "cells": [
  {
   "cell_type": "code",
   "execution_count": 23,
   "metadata": {},
   "outputs": [],
   "source": [
    "import seaborn as sns\n",
    "import matplotlib.pyplot as plt\n",
    "\n",
    "def compare(name: str):\n",
    "    def parse(_name: str):\n",
    "        with open(_name, 'r') as f:\n",
    "            ln = f.readlines()\n",
    "            \n",
    "        d = {}\n",
    "        for line in ln:\n",
    "            idx = line.index('#')\n",
    "            key = line[:idx]\n",
    "            val = float(line[idx+1:])\n",
    "            \n",
    "            d[key] = val\n",
    "        \n",
    "        return d\n",
    "    \n",
    "    print(name)\n",
    "    before_name = 'before-' + name\n",
    "    after_name = 'after-' + name\n",
    "    \n",
    "    d_before = parse(before_name)\n",
    "    d_after = parse(after_name)\n",
    "    diff = []\n",
    "    \n",
    "    for key in d_before:\n",
    "        assert key in d_after\n",
    "        \n",
    "        tb = d_before[key]\n",
    "        ta = d_after[key]\n",
    "        \n",
    "        diff.append(ta/tb)\n",
    "        \n",
    "        if ta / tb > 1.2:\n",
    "            print(f'(*shape, k, dim)={key.rstrip()},  time after ={ta : .3f} ms,  '\n",
    "                  f'time before ={tb : .3f} ms,  '\n",
    "                  f'slow down{ta/tb : .3f}')\n",
    "    \n",
    "    ax = sns.distplot(diff, bins=40)\n",
    "    ax.set(xlabel='time after / time before (smaller is better)', ylabel='PDF', xlim=(0, 1.5))\n",
    "    plt.show()"
   ]
  },
  {
   "cell_type": "code",
   "execution_count": 24,
   "metadata": {
    "scrolled": false
   },
   "outputs": [
    {
     "name": "stdout",
     "output_type": "stream",
     "text": [
      "cuda-torch.float32.txt\n",
      "(*shape, k, dim)=(3, 50000, 1, 10, 1),  time after = 0.356 ms,  time before = 0.295 ms,  slow down 1.206\n",
      "(*shape, k, dim)=(1, 50000, 10, -1),  time after = 0.384 ms,  time before = 0.307 ms,  slow down 1.250\n",
      "(*shape, k, dim)=(1171237, 3, 50, 0),  time after = 10.963 ms,  time before = 8.525 ms,  slow down 1.286\n",
      "(*shape, k, dim)=(10, 1171237, 3, 1, 1),  time after = 12.682 ms,  time before = 9.543 ms,  slow down 1.329\n",
      "(*shape, k, dim)=(1, 2529899, 1, 1, 1),  time after = 16.293 ms,  time before = 12.684 ms,  slow down 1.285\n",
      "(*shape, k, dim)=(3298121, 1, 100, 0),  time after = 31.510 ms,  time before = 25.898 ms,  slow down 1.217\n",
      "(*shape, k, dim)=(10, 2529899, 1, 100, 1),  time after = 28.677 ms,  time before = 23.150 ms,  slow down 1.239\n",
      "(*shape, k, dim)=(3, 50000, 10, 1, 1),  time after = 0.696 ms,  time before = 0.559 ms,  slow down 1.245\n",
      "(*shape, k, dim)=(1, 1863557, 3, 50, 1),  time after = 17.978 ms,  time before = 14.604 ms,  slow down 1.231\n",
      "(*shape, k, dim)=(1, 1863557, 10, 100, 1),  time after = 30.705 ms,  time before = 23.407 ms,  slow down 1.312\n",
      "(*shape, k, dim)=(2529899, 3, 10, 0),  time after = 25.977 ms,  time before = 20.108 ms,  slow down 1.292\n",
      "(*shape, k, dim)=(1, 3298121, 1000, -1),  time after = 35.473 ms,  time before = 28.089 ms,  slow down 1.263\n",
      "(*shape, k, dim)=(2529899, 1, 10, 0),  time after = 22.169 ms,  time before = 18.453 ms,  slow down 1.201\n",
      "(*shape, k, dim)=(3, 1863557, 10, -1),  time after = 19.146 ms,  time before = 15.749 ms,  slow down 1.216\n",
      "(*shape, k, dim)=(1, 10000, 1, 50, 1),  time after = 0.090 ms,  time before = 0.075 ms,  slow down 1.211\n",
      "(*shape, k, dim)=(50000, 1, 50, 0),  time after = 0.371 ms,  time before = 0.298 ms,  slow down 1.245\n",
      "(*shape, k, dim)=(1, 1863557, 1, 1, 1),  time after = 14.436 ms,  time before = 11.642 ms,  slow down 1.240\n",
      "(*shape, k, dim)=(1, 50000, 1, 1, 1),  time after = 0.286 ms,  time before = 0.181 ms,  slow down 1.580\n",
      "(*shape, k, dim)=(10000, 1, 10, 0),  time after = 0.094 ms,  time before = 0.069 ms,  slow down 1.362\n",
      "(*shape, k, dim)=(3, 1863557, 1, 100, 1),  time after = 20.365 ms,  time before = 15.970 ms,  slow down 1.275\n",
      "(*shape, k, dim)=(1, 3298121, 1, 1, 1),  time after = 24.451 ms,  time before = 18.800 ms,  slow down 1.301\n",
      "(*shape, k, dim)=(3298121, 1, 10, 0),  time after = 29.277 ms,  time before = 22.077 ms,  slow down 1.326\n",
      "(*shape, k, dim)=(10, 100000, 3, 500, 1),  time after = 1.559 ms,  time before = 1.205 ms,  slow down 1.293\n"
     ]
    },
    {
     "data": {
      "image/png": "[encoded data removed]",
      "text/plain": [
       "<Figure size 432x288 with 1 Axes>"
      ]
     },
     "metadata": {
      "needs_background": "light"
     },
     "output_type": "display_data"
    }
   ],
   "source": [
    "compare('cuda-torch.float32.txt')"
   ]
  },
  {
   "cell_type": "code",
   "execution_count": null,
   "metadata": {},
   "outputs": [],
   "source": []
  }
 ],
 "metadata": {
  "kernelspec": {
   "display_name": "Python 3.7.5 64-bit",
   "language": "python",
   "name": "python37564bit60e57c818ef44aef9efb750a08331318"
  },
  "language_info": {
   "codemirror_mode": {
    "name": "ipython",
    "version": 3
   },
   "file_extension": ".py",
   "mimetype": "text/x-python",
   "name": "python",
   "nbconvert_exporter": "python",
   "pygments_lexer": "ipython3",
   "version": "3.7.5"
  }
 },
 "nbformat": 4,
 "nbformat_minor": 2
}
